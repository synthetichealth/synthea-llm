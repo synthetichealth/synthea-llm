{
 "cells": [
  {
   "cell_type": "code",
   "execution_count": 2,
   "id": "80ab8977-82da-40e9-9463-486f5a6c96b5",
   "metadata": {},
   "outputs": [
    {
     "data": {
      "text/plain": [
       "False"
      ]
     },
     "execution_count": 2,
     "metadata": {},
     "output_type": "execute_result"
    }
   ],
   "source": [
    "element = {'condition': {'condition_type': 'Observation', 'codes': [{'system': 'LOINC', 'code': '11579-0', 'display': 'Thyrotropin receptor antibody'}], 'operator': '>', 'value': 1}, 'transition': 'GD_Treatment'}\n",
    "'condition_type' in element"
   ]
  },
  {
   "cell_type": "code",
   "execution_count": null,
   "id": "c8f517e7-d3eb-437b-b049-841be0437b50",
   "metadata": {},
   "outputs": [],
   "source": []
  }
 ],
 "metadata": {
  "kernelspec": {
   "display_name": "Python 3 (ipykernel)",
   "language": "python",
   "name": "python3"
  },
  "language_info": {
   "codemirror_mode": {
    "name": "ipython",
    "version": 3
   },
   "file_extension": ".py",
   "mimetype": "text/x-python",
   "name": "python",
   "nbconvert_exporter": "python",
   "pygments_lexer": "ipython3",
   "version": "3.11.2"
  }
 },
 "nbformat": 4,
 "nbformat_minor": 5
}
